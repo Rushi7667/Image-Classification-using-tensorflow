{
  "nbformat": 4,
  "nbformat_minor": 0,
  "metadata": {
    "colab": {
      "provenance": [],
      "mount_file_id": "15wV1yFV5G0SMBioHI9ZFAkehANi_XMZV",
      "authorship_tag": "ABX9TyOtRi3hAirZEBh2mB5mCUQG"
    },
    "kernelspec": {
      "name": "python3",
      "display_name": "Python 3"
    },
    "language_info": {
      "name": "python"
    }
  },
  "cells": [
    {
      "cell_type": "markdown",
      "source": [
        "# import the libraries"
      ],
      "metadata": {
        "id": "yTOC7bhIke3b"
      }
    },
    {
      "cell_type": "code",
      "source": [
        "import os\n",
        "import pathlib\n",
        "import pandas as pd\n",
        "import numpy as np\n",
        "import matplotlib.pyplot as plt\n",
        "import plotly.express as px\n",
        "import tensorflow as tf\n",
        "from PIL import Image\n",
        "import seaborn as sns\n",
        "import cv2\n",
        "\n",
        "from tensorflow import keras\n",
        "from tensorflow.keras import layers\n",
        "from tensorflow.keras.models import Sequential"
      ],
      "metadata": {
        "id": "dojE_WqpdKjS"
      },
      "execution_count": 1,
      "outputs": []
    },
    {
      "cell_type": "code",
      "source": [
        "path = '/content/drive/MyDrive/Classification/images/Micro_Organism'\n",
        "\n",
        "class_name = os.listdir(path)\n",
        "class_length = len(class_name)\n",
        "\n",
        "print(f\"class_length : {class_length}\")\n",
        "print(f\"class_name : {class_name}\")"
      ],
      "metadata": {
        "colab": {
          "base_uri": "https://localhost:8080/"
        },
        "id": "v32-7wp4dK1t",
        "outputId": "d92d91a2-e82f-4b1c-88b3-982729044461"
      },
      "execution_count": 2,
      "outputs": [
        {
          "output_type": "stream",
          "name": "stdout",
          "text": [
            "class_length : 8\n",
            "class_name : ['Amoeba', 'Euglena', 'Hydra', 'Paramecium', 'Rod_bacteria', 'Spherical_bacteria', 'Spiral_bacteria', 'Yeast']\n"
          ]
        }
      ]
    },
    {
      "cell_type": "code",
      "source": [
        "class_dis = []\n",
        "for name in class_name:\n",
        "  class_dis.append(len(os.listdir(path + \"/\" + name)))\n",
        "class_dis"
      ],
      "metadata": {
        "colab": {
          "base_uri": "https://localhost:8080/"
        },
        "id": "IQqra_WtqbaX",
        "outputId": "f083db90-7430-400a-fe1d-2d9e50d61cbb"
      },
      "execution_count": 3,
      "outputs": [
        {
          "output_type": "execute_result",
          "data": {
            "text/plain": [
              "[72, 168, 76, 152, 85, 86, 75, 75]"
            ]
          },
          "metadata": {},
          "execution_count": 3
        }
      ]
    },
    {
      "cell_type": "code",
      "source": [
        "fig = px.pie(names=class_name, values=class_dis, title='class disribution')\n",
        "fig.update_layout({'title':{'x':0.45}})\n",
        "fig.show()"
      ],
      "metadata": {
        "colab": {
          "base_uri": "https://localhost:8080/",
          "height": 542
        },
        "id": "2DReY6pcdLLn",
        "outputId": "2e20b81d-7903-455e-8d3e-45d4ed328365"
      },
      "execution_count": 4,
      "outputs": [
        {
          "output_type": "display_data",
          "data": {
            "text/html": [
              "<html>\n",
              "<head><meta charset=\"utf-8\" /></head>\n",
              "<body>\n",
                "<img src="https://github.com/Rushi7667/Image-Classification-using-tensorflow/blob/58e3261a85fafba0f06602c07fc2b43ee114f7b3/output-images/plotoforganisms.png">"
              "                        })                };                            </script>        </div>\n",
              "</body>\n",
              "</html>"
            ]
          },
          "metadata": {}
        }
      ]
    }
  ]
}
